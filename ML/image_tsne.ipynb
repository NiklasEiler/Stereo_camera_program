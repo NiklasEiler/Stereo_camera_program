{
 "cells": [
  {
   "cell_type": "markdown",
   "metadata": {},
   "source": [
    "# Image Tsne"
   ]
  },
  {
   "cell_type": "markdown",
   "metadata": {},
   "source": [
    "### Import Variables"
   ]
  },
  {
   "cell_type": "code",
   "execution_count": 65,
   "metadata": {},
   "outputs": [],
   "source": [
    "%matplotlib inline\n",
    "import random\n",
    "import numpy as np\n",
    "import pickle\n",
    "from PIL import Image\n",
    "from scipy.spatial import distance\n",
    "import igraph\n",
    "import cv2\n",
    "import os\n",
    "from skimage import io\n",
    "from sklearn.feature_extraction import image\n",
    "from sklearn.manifold import TSNE\n",
    "from tqdm import tqdm"
   ]
  },
  {
   "cell_type": "markdown",
   "metadata": {},
   "source": [
    "### Parse all images in custom folder, saves their color and path into the data array"
   ]
  },
  {
   "cell_type": "code",
   "execution_count": 66,
   "metadata": {},
   "outputs": [
    {
     "name": "stderr",
     "output_type": "stream",
     "text": [
      "100%|██████████| 29/29 [00:00<00:00, 71.49it/s]\n"
     ]
    }
   ],
   "source": [
    "data = []\n",
    "folder = 'bilder/'\n",
    "\n",
    "for filename in tqdm((os.listdir(folder))):\n",
    "    image = cv2.imread(os.path.join(folder,filename))\n",
    "    if image is not None:\n",
    "        image = cv2.cvtColor(image, cv2.COLOR_BGR2GRAY)\n",
    "        image = cv2.resize(image, (45,45))\n",
    "        image = image.flatten()\n",
    "        data.append([image, folder + filename])\n"
   ]
  },
  {
   "cell_type": "code",
   "execution_count": 67,
   "metadata": {},
   "outputs": [
    {
     "data": {
      "text/plain": [
       "[[array([255, 255, 255, ..., 189, 182, 177], dtype=uint8),\n",
       "  'bilder/original_left10_.png'],\n",
       " [array([255, 255, 255, ..., 189, 182, 176], dtype=uint8),\n",
       "  'bilder/original_left11_.png'],\n",
       " [array([255, 255, 255, ..., 190, 183, 177], dtype=uint8),\n",
       "  'bilder/original_left12_.png'],\n",
       " [array([ 93,  97, 197, ..., 174,  98,  95], dtype=uint8),\n",
       "  'bilder/original_left13_.png'],\n",
       " [array([ 87, 111, 162, ..., 146,  86,  85], dtype=uint8),\n",
       "  'bilder/original_left14_.png'],\n",
       " [array([ 91, 156, 161, ..., 196, 108, 108], dtype=uint8),\n",
       "  'bilder/original_left15_.png'],\n",
       " [array([ 90, 163, 175, ..., 187, 100, 102], dtype=uint8),\n",
       "  'bilder/original_left16_.png'],\n",
       " [array([255, 255, 255, ..., 192, 186, 181], dtype=uint8),\n",
       "  'bilder/original_left1_.png'],\n",
       " [array([255, 255, 255, ..., 192, 186, 180], dtype=uint8),\n",
       "  'bilder/original_left2_.png'],\n",
       " [array([255, 255, 255, ..., 187, 181, 178], dtype=uint8),\n",
       "  'bilder/original_left3_.png'],\n",
       " [array([255, 255, 255, ..., 198, 191, 186], dtype=uint8),\n",
       "  'bilder/original_left4_.png'],\n",
       " [array([255, 255, 255, ..., 190, 185, 179], dtype=uint8),\n",
       "  'bilder/original_left5_.png'],\n",
       " [array([255, 255, 255, ..., 190, 186, 177], dtype=uint8),\n",
       "  'bilder/original_left6_.png'],\n",
       " [array([255, 255, 255, ..., 195, 185, 184], dtype=uint8),\n",
       "  'bilder/original_left7_.png'],\n",
       " [array([255, 255, 255, ..., 189, 180, 178], dtype=uint8),\n",
       "  'bilder/original_left8_.png'],\n",
       " [array([255, 255, 255, ..., 189, 180, 174], dtype=uint8),\n",
       "  'bilder/original_left9_.png'],\n",
       " [array([172, 177, 185, ...,  80,  76,  74], dtype=uint8),\n",
       "  'bilder/original_right10_.png'],\n",
       " [array([170, 177, 183, ...,  81,  77,  75], dtype=uint8),\n",
       "  'bilder/original_right11_.png'],\n",
       " [array([173, 180, 187, ...,  82,  78,  76], dtype=uint8),\n",
       "  'bilder/original_right12_.png'],\n",
       " [array([175, 184, 189, ...,  83,  79,  76], dtype=uint8),\n",
       "  'bilder/original_right13_.png'],\n",
       " [array([168, 175, 181, ...,  81,  80,  77], dtype=uint8),\n",
       "  'bilder/original_right1_.png'],\n",
       " [array([168, 174, 183, ...,  82,  79,  75], dtype=uint8),\n",
       "  'bilder/original_right2_.png'],\n",
       " [array([166, 173, 180, ...,  81,  78,  75], dtype=uint8),\n",
       "  'bilder/original_right3_.png'],\n",
       " [array([169, 176, 183, ...,  82,  77,  75], dtype=uint8),\n",
       "  'bilder/original_right4_.png'],\n",
       " [array([176, 185, 190, ...,  84,  81,  77], dtype=uint8),\n",
       "  'bilder/original_right5_.png'],\n",
       " [array([172, 180, 185, ...,  82,  80,  76], dtype=uint8),\n",
       "  'bilder/original_right6_.png'],\n",
       " [array([172, 176, 185, ...,  81,  78,  75], dtype=uint8),\n",
       "  'bilder/original_right7_.png'],\n",
       " [array([175, 180, 189, ...,  82,  80,  76], dtype=uint8),\n",
       "  'bilder/original_right8_.png'],\n",
       " [array([172, 177, 186, ...,  80,  77,  75], dtype=uint8),\n",
       "  'bilder/original_right9_.png']]"
      ]
     },
     "execution_count": 67,
     "metadata": {},
     "output_type": "execute_result"
    }
   ],
   "source": [
    "data"
   ]
  },
  {
   "cell_type": "markdown",
   "metadata": {},
   "source": [
    "### Training part"
   ]
  },
  {
   "cell_type": "markdown",
   "metadata": {},
   "source": [
    "imagesinstantiate a PCA object, which we will then fit our data to, choosing to keep the top 300 principal components. This may take a few minutes."
   ]
  },
  {
   "cell_type": "code",
   "execution_count": 68,
   "metadata": {},
   "outputs": [],
   "source": [
    "features, images  = zip(*data)"
   ]
  },
  {
   "cell_type": "code",
   "execution_count": 69,
   "metadata": {
    "tags": []
   },
   "outputs": [],
   "source": [
    "from sklearn.decomposition import PCA\n",
    "\n",
    "features = np.array(features)\n",
    "pca = PCA(n_components=20)\n",
    "pca.fit(features)\n",
    "pca_features = pca.transform(features)"
   ]
  },
  {
   "cell_type": "code",
   "execution_count": 70,
   "metadata": {},
   "outputs": [],
   "source": [
    "num_images_to_plot = len(images)\n",
    "\n",
    "if len(images) > num_images_to_plot:\n",
    "    sort_order = sorted(random.sample(range(len(images)), num_images_to_plot))\n",
    "    images = [images[i] for i in sort_order]\n",
    "    pca_features = [pca_features[i] for i in sort_order]"
   ]
  },
  {
   "cell_type": "code",
   "execution_count": 80,
   "metadata": {},
   "outputs": [
    {
     "name": "stdout",
     "output_type": "stream",
     "text": [
      "[t-SNE] Computing 28 nearest neighbors...\n",
      "[t-SNE] Indexed 29 samples in 0.000s...\n",
      "[t-SNE] Computed neighbors for 29 samples in 0.004s...\n",
      "[t-SNE] Computed conditional probabilities for sample 29 / 29\n",
      "[t-SNE] Mean sigma: 773.160812\n",
      "[t-SNE] Computed conditional probabilities in 0.002s\n",
      "[t-SNE] Iteration 50: error = 43.1359444, gradient norm = 0.8892556 (50 iterations in 0.017s)\n",
      "[t-SNE] Iteration 100: error = 37.8235512, gradient norm = 0.9766940 (50 iterations in 0.016s)\n",
      "[t-SNE] Iteration 150: error = 36.8342476, gradient norm = 1.2174028 (50 iterations in 0.018s)\n",
      "[t-SNE] Iteration 200: error = 39.9365654, gradient norm = 0.8329495 (50 iterations in 0.022s)\n",
      "[t-SNE] Iteration 250: error = 38.8953018, gradient norm = 0.8633156 (50 iterations in 0.019s)\n",
      "[t-SNE] KL divergence after 250 iterations with early exaggeration: 38.895302\n",
      "[t-SNE] Iteration 300: error = 0.0321744, gradient norm = 0.0028101 (50 iterations in 0.013s)\n",
      "[t-SNE] Iteration 350: error = 0.0263182, gradient norm = 0.0036972 (50 iterations in 0.016s)\n",
      "[t-SNE] Iteration 400: error = 0.0247409, gradient norm = 0.0013263 (50 iterations in 0.018s)\n",
      "[t-SNE] Iteration 450: error = 0.0243997, gradient norm = 0.0006345 (50 iterations in 0.015s)\n",
      "[t-SNE] Iteration 500: error = 0.0243653, gradient norm = 0.0003715 (50 iterations in 0.014s)\n",
      "[t-SNE] Iteration 550: error = 0.0243399, gradient norm = 0.0005190 (50 iterations in 0.014s)\n",
      "[t-SNE] Iteration 600: error = 0.0243902, gradient norm = 0.0002299 (50 iterations in 0.015s)\n",
      "[t-SNE] Iteration 650: error = 0.0243281, gradient norm = 0.0001831 (50 iterations in 0.014s)\n",
      "[t-SNE] Iteration 700: error = 0.0243243, gradient norm = 0.0001437 (50 iterations in 0.018s)\n",
      "[t-SNE] Iteration 750: error = 0.0243453, gradient norm = 0.0000946 (50 iterations in 0.020s)\n",
      "[t-SNE] Iteration 800: error = 0.0243440, gradient norm = 0.0000951 (50 iterations in 0.016s)\n",
      "[t-SNE] Iteration 850: error = 0.0243392, gradient norm = 0.0001265 (50 iterations in 0.015s)\n",
      "[t-SNE] Iteration 900: error = 0.0243373, gradient norm = 0.0000772 (50 iterations in 0.016s)\n",
      "[t-SNE] Iteration 950: error = 0.0243370, gradient norm = 0.0000849 (50 iterations in 0.014s)\n",
      "[t-SNE] Iteration 1000: error = 0.0243366, gradient norm = 0.0000611 (50 iterations in 0.014s)\n",
      "[t-SNE] KL divergence after 1000 iterations: 0.024337\n"
     ]
    }
   ],
   "source": [
    "X = np.array(pca_features)\n",
    "tsne = TSNE(n_components=2, learning_rate=10, perplexity=10, angle=0.2, verbose=2).fit_transform(X)"
   ]
  },
  {
   "cell_type": "code",
   "execution_count": 72,
   "metadata": {},
   "outputs": [],
   "source": [
    "tx, ty = tsne[:,0], tsne[:,1]\n",
    "tx = (tx-np.min(tx)) / (np.max(tx) - np.min(tx))\n",
    "ty = (ty-np.min(ty)) / (np.max(ty) - np.min(ty))"
   ]
  },
  {
   "cell_type": "markdown",
   "metadata": {},
   "source": [
    "### Plots the clusters"
   ]
  },
  {
   "cell_type": "code",
   "execution_count": 73,
   "metadata": {},
   "outputs": [
    {
     "data": {
      "text/plain": [
       "<matplotlib.image.AxesImage at 0x1f36b16d290>"
      ]
     },
     "execution_count": 73,
     "metadata": {},
     "output_type": "execute_result"
    },
    {
     "data": {
      "image/png": "[encoded data removed]",
      "text/plain": [
       "<Figure size 1600x1200 with 1 Axes>"
      ]
     },
     "metadata": {},
     "output_type": "display_data"
    }
   ],
   "source": [
    "import matplotlib.pyplot\n",
    "from matplotlib.pyplot import imshow\n",
    "\n",
    "width = 4000\n",
    "height = 3000\n",
    "max_dim = 100\n",
    "\n",
    "full_image = Image.new('RGBA', (width, height))\n",
    "for img, x, y in zip(images, tx, ty):\n",
    "    tile = Image.open(img)\n",
    "    rs = max(1, tile.width/max_dim, tile.height/max_dim)\n",
    "    tile = tile.resize((int(tile.width/rs), int(tile.height/rs)))\n",
    "    full_image.paste(tile, (int((width-max_dim)*x), int((height-max_dim)*y)), mask=tile.convert('RGBA'))\n",
    "\n",
    "matplotlib.pyplot.figure(figsize = (16,12))\n",
    "imshow(full_image)\n",
    "\n",
    "\n"
   ]
  },
  {
   "cell_type": "code",
   "execution_count": 74,
   "metadata": {},
   "outputs": [
    {
     "name": "stdout",
     "output_type": "stream",
     "text": [
      "10.1.0\n"
     ]
    }
   ],
   "source": [
    "import PIL\n",
    "print(PIL.__version__)\n"
   ]
  },
  {
   "cell_type": "markdown",
   "metadata": {},
   "source": [
    "### Save a json and a png of the cluster"
   ]
  },
  {
   "cell_type": "code",
   "execution_count": 75,
   "metadata": {},
   "outputs": [
    {
     "name": "stdout",
     "output_type": "stream",
     "text": [
      "saved t-SNE result to test_tSNE.json\n"
     ]
    }
   ],
   "source": [
    "import os\n",
    "import json\n",
    "\n",
    "full_image.save(\"test_tSNE.png\")\n",
    "\n",
    "tsne_path = \"test_tSNE.json\"\n",
    "\n",
    "data = [{\"path\":os.path.abspath(img), \"point\":[float(x), float(y)]} for img, x, y in zip(images, tx, ty)]\n",
    "with open(tsne_path, 'w') as outfile:\n",
    "    json.dump(data, outfile)\n",
    "\n",
    "print(\"saved t-SNE result to %s\" % tsne_path)\n"
   ]
  },
  {
   "cell_type": "markdown",
   "metadata": {},
   "source": [
    "### Paste into grid"
   ]
  },
  {
   "cell_type": "code",
   "execution_count": 76,
   "metadata": {},
   "outputs": [],
   "source": [
    "def arrange_in_grid(points, nx, ny):\n",
    "    x_min, y_min = np.min(points, axis=0)\n",
    "    x_max, y_max = np.max(points, axis=0)\n",
    "    \n",
    "    x_grid = np.linspace(x_min, x_max, nx)\n",
    "    y_grid = np.linspace(y_min, y_max, ny)\n",
    "    \n",
    "    grid_points = np.array(np.meshgrid(x_grid, y_grid)).T.reshape(-1, 2)\n",
    "    \n",
    "    return grid_points[:len(points)]\n",
    "\n",
    "# Arrange points in a grid\n",
    "grid_assignment = arrange_in_grid(tsne, nx, ny)"
   ]
  },
  {
   "cell_type": "code",
   "execution_count": 77,
   "metadata": {},
   "outputs": [
    {
     "ename": "TypeError",
     "evalue": "cannot unpack non-iterable numpy.float64 object",
     "output_type": "error",
     "traceback": [
      "\u001b[1;31m---------------------------------------------------------------------------\u001b[0m",
      "\u001b[1;31mTypeError\u001b[0m                                 Traceback (most recent call last)",
      "Cell \u001b[1;32mIn[77], line 11\u001b[0m\n\u001b[0;32m      8\u001b[0m grid_image \u001b[38;5;241m=\u001b[39m Image\u001b[38;5;241m.\u001b[39mnew(\u001b[38;5;124m'\u001b[39m\u001b[38;5;124mRGBA\u001b[39m\u001b[38;5;124m'\u001b[39m, (full_width, full_height))\n\u001b[0;32m     10\u001b[0m \u001b[38;5;28;01mfor\u001b[39;00m img, grid_pos \u001b[38;5;129;01min\u001b[39;00m \u001b[38;5;28mzip\u001b[39m(images, grid_assignment[\u001b[38;5;241m0\u001b[39m]):\n\u001b[1;32m---> 11\u001b[0m     idx_x, idx_y \u001b[38;5;241m=\u001b[39m grid_pos\n\u001b[0;32m     12\u001b[0m     x, y \u001b[38;5;241m=\u001b[39m tile_width \u001b[38;5;241m*\u001b[39m idx_x, tile_height \u001b[38;5;241m*\u001b[39m idx_y\n\u001b[0;32m     13\u001b[0m     tile \u001b[38;5;241m=\u001b[39m Image\u001b[38;5;241m.\u001b[39mopen(img)\n",
      "\u001b[1;31mTypeError\u001b[0m: cannot unpack non-iterable numpy.float64 object"
     ]
    }
   ],
   "source": [
    "tile_width = 50\n",
    "tile_height = 50\n",
    "\n",
    "full_width = tile_width * nx\n",
    "full_height = tile_height * ny\n",
    "aspect_ratio = float(tile_width) / tile_height\n",
    "\n",
    "grid_image = Image.new('RGBA', (full_width, full_height))\n",
    "\n",
    "for img, grid_pos in zip(images, grid_assignment[0]):\n",
    "    idx_x, idx_y = grid_pos\n",
    "    x, y = tile_width * idx_x, tile_height * idx_y\n",
    "    tile = Image.open(img)\n",
    "    tile_ar = float(tile.width) / tile.height  # center-crop the tile to match aspect_ratio\n",
    "    if (tile_ar > aspect_ratio):\n",
    "        margin = 0.5 * (tile.width - aspect_ratio * tile.height)\n",
    "        tile = tile.crop((margin, 0, margin + aspect_ratio * tile.height, tile.height))\n",
    "    else:\n",
    "        margin = 0.5 * (tile.height - float(tile.width) / aspect_ratio)\n",
    "        tile = tile.crop((0, margin, tile.width, margin + float(tile.width) / aspect_ratio))\n",
    "    tile = tile.resize((tile_width, tile_height), Image.ANTIALIAS)\n",
    "    grid_image.paste(tile, (int(x), int(y)))\n",
    "\n",
    "matplotlib.pyplot.figure(figsize = (16,12))\n",
    "imshow(grid_image)"
   ]
  },
  {
   "cell_type": "markdown",
   "metadata": {},
   "source": [
    "### Save the image"
   ]
  },
  {
   "cell_type": "code",
   "execution_count": null,
   "metadata": {},
   "outputs": [],
   "source": [
    "background = Image.new(\"RGB\", grid_image.size, (255, 255, 255))\n",
    "background.paste(grid_image, mask=grid_image.split()[3]) # 3 is the alpha channel\n",
    "\n",
    "background.save('grid-tSNE.jpg', 'JPEG', quality=100)"
   ]
  }
 ],
 "metadata": {
  "kernelspec": {
   "display_name": "Python 3 (ipykernel)",
   "language": "python",
   "name": "python3"
  },
  "language_info": {
   "codemirror_mode": {
    "name": "ipython",
    "version": 3
   },
   "file_extension": ".py",
   "mimetype": "text/x-python",
   "name": "python",
   "nbconvert_exporter": "python",
   "pygments_lexer": "ipython3",
   "version": "3.11.7"
  }
 },
 "nbformat": 4,
 "nbformat_minor": 4
}
