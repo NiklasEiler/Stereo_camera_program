{
 "cells": [
  {
   "cell_type": "code",
   "execution_count": 1,
   "metadata": {},
   "outputs": [],
   "source": [
    "import cv2"
   ]
  },
  {
   "cell_type": "code",
   "execution_count": 13,
   "metadata": {},
   "outputs": [],
   "source": [
    "start=201\n",
    "for i in range(200):\n",
    "    path_m = \"C:\\LUH\\Master\\Masterarbeit\\Stereo_camera_program\\Segmentation\\maske/\" +str(i+start) + \".png\"\n",
    "    path_imag=\"C:\\LUH\\Master\\Masterarbeit\\Stereo_camera_program\\Segmentation/new/tmp/crop\" +str(i+start) + \".png\"\n",
    "    path_target = \"C:\\LUH\\Master\\Masterarbeit\\Stereo_camera_program\\Segmentation/add/\" +str(i+start) + \".png\"\n",
    "    path_sort_out = \"C:\\LUH\\Master\\Masterarbeit\\Stereo_camera_program\\Segmentation\\out/\"  +str(i+start) + \".png\"\n",
    "    msk=cv2.imread(path_m)\n",
    "    img=cv2.imread(path_imag)\n",
    "    if msk is None:\n",
    "        cv2.imwrite(path_sort_out, img )\n",
    "\n",
    "    else:\n",
    "        cv2.imwrite(path_target, img )"
   ]
  }
 ],
 "metadata": {
  "kernelspec": {
   "display_name": "base",
   "language": "python",
   "name": "python3"
  },
  "language_info": {
   "codemirror_mode": {
    "name": "ipython",
    "version": 3
   },
   "file_extension": ".py",
   "mimetype": "text/x-python",
   "name": "python",
   "nbconvert_exporter": "python",
   "pygments_lexer": "ipython3",
   "version": "3.11.5"
  }
 },
 "nbformat": 4,
 "nbformat_minor": 2
}
